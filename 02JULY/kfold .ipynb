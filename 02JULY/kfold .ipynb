{
 "cells": [
  {
   "cell_type": "code",
   "execution_count": 2,
   "id": "78d33f3c-cf73-4e9c-ba79-d25b0390db73",
   "metadata": {},
   "outputs": [
    {
     "data": {
      "text/plain": [
       "KFold(n_splits=3, random_state=None, shuffle=False)"
      ]
     },
     "execution_count": 2,
     "metadata": {},
     "output_type": "execute_result"
    }
   ],
   "source": [
    "from sklearn.model_selection import KFold\n",
    "kf = KFold(n_splits = 3)\n",
    "kf"
   ]
  },
  {
   "cell_type": "code",
   "execution_count": 3,
   "id": "a2c24eab-5adf-4ea2-adb0-fe458bfe9078",
   "metadata": {},
   "outputs": [
    {
     "name": "stdout",
     "output_type": "stream",
     "text": [
      "[3 4 5 6 7 8] [0 1 2]\n",
      "[0 1 2 6 7 8] [3 4 5]\n",
      "[0 1 2 3 4 5] [6 7 8]\n"
     ]
    }
   ],
   "source": [
    "for train_index,test_index in kf.split([1,2,3,4,5,6,7,8,9]):\n",
    "    print(train_index, test_index)"
   ]
  },
  {
   "cell_type": "code",
   "execution_count": 5,
   "id": "bcf0f6f2-5a49-44c2-993f-518c1fb6386d",
   "metadata": {},
   "outputs": [],
   "source": [
    "from sklearn.linear_model import LogisticRegression \n",
    "from sklearn.svm import SVC\n",
    "from sklearn.ensemble import RandomForestClassifier \n"
   ]
  },
  {
   "cell_type": "code",
   "execution_count": 8,
   "id": "7424c607-5f0e-452c-afe4-46f81bccca3d",
   "metadata": {},
   "outputs": [],
   "source": [
    "import numpy as np \n"
   ]
  },
  {
   "cell_type": "code",
   "execution_count": 18,
   "id": "d3036f55-75ea-4243-8fbf-9b5504d63885",
   "metadata": {},
   "outputs": [],
   "source": [
    "from sklearn.datasets import load_digits\n",
    "digits = load_digits()"
   ]
  },
  {
   "cell_type": "code",
   "execution_count": 19,
   "id": "df41917d-4afb-4364-ae70-210ce4124941",
   "metadata": {},
   "outputs": [],
   "source": [
    "from sklearn.model_selection import train_test_split\n",
    "X_train,X_test ,y_train,y_test = train_test_split(digits.data,digits.target,test_size=0.3)"
   ]
  },
  {
   "cell_type": "code",
   "execution_count": 20,
   "id": "7460c09b-f724-4bb6-af77-a325f074d32d",
   "metadata": {},
   "outputs": [
    {
     "name": "stderr",
     "output_type": "stream",
     "text": [
      "C:\\Users\\ADIT\\anaconda3\\Lib\\site-packages\\sklearn\\linear_model\\_logistic.py:458: ConvergenceWarning: lbfgs failed to converge (status=1):\n",
      "STOP: TOTAL NO. of ITERATIONS REACHED LIMIT.\n",
      "\n",
      "Increase the number of iterations (max_iter) or scale the data as shown in:\n",
      "    https://scikit-learn.org/stable/modules/preprocessing.html\n",
      "Please also refer to the documentation for alternative solver options:\n",
      "    https://scikit-learn.org/stable/modules/linear_model.html#logistic-regression\n",
      "  n_iter_i = _check_optimize_result(\n"
     ]
    },
    {
     "data": {
      "text/plain": [
       "0.975925925925926"
      ]
     },
     "execution_count": 20,
     "metadata": {},
     "output_type": "execute_result"
    }
   ],
   "source": [
    "lr = LogisticRegression()\n",
    "lr.fit(X_train ,y_train)\n",
    "lr.score(X_test,y_test)"
   ]
  },
  {
   "cell_type": "code",
   "execution_count": 21,
   "id": "ae5f084e-c0a0-4f78-a696-f429253f942b",
   "metadata": {},
   "outputs": [
    {
     "data": {
      "text/plain": [
       "0.9888888888888889"
      ]
     },
     "execution_count": 21,
     "metadata": {},
     "output_type": "execute_result"
    }
   ],
   "source": [
    "svm = SVC()\n",
    "svm.fit(X_train ,y_train)\n",
    "svm.score(X_test,y_test)"
   ]
  },
  {
   "cell_type": "code",
   "execution_count": 22,
   "id": "963ff502-b1cd-407e-aaab-5b93b97512d5",
   "metadata": {},
   "outputs": [
    {
     "data": {
      "text/plain": [
       "0.9851851851851852"
      ]
     },
     "execution_count": 22,
     "metadata": {},
     "output_type": "execute_result"
    }
   ],
   "source": [
    "rf = RandomForestClassifier()\n",
    "rf.fit(X_train ,y_train)\n",
    "rf.score(X_test,y_test)"
   ]
  },
  {
   "cell_type": "code",
   "execution_count": 23,
   "id": "093e6705-e607-46cd-bfad-717782e7c255",
   "metadata": {},
   "outputs": [],
   "source": [
    "def get_score(model,X_train,X_test ,y_train,y_test):\n",
    "    model.fit(X_train,y_train)\n",
    "    return model.score(X_test , y_test)"
   ]
  },
  {
   "cell_type": "code",
   "execution_count": 25,
   "id": "86942e21-91b6-4e79-b7aa-0fe7d3d0606f",
   "metadata": {},
   "outputs": [
    {
     "data": {
      "text/plain": [
       "0.9888888888888889"
      ]
     },
     "execution_count": 25,
     "metadata": {},
     "output_type": "execute_result"
    }
   ],
   "source": [
    "get_score(SVC(),X_train,X_test , y_train,y_test)"
   ]
  },
  {
   "cell_type": "code",
   "execution_count": 26,
   "id": "97b4da8f-d2b4-4621-ba68-50a8a5b745a3",
   "metadata": {},
   "outputs": [],
   "source": [
    "from sklearn.model_selection import StratifiedKFold"
   ]
  },
  {
   "cell_type": "code",
   "execution_count": null,
   "id": "f0341421-c500-4ce4-bb92-d9a4484cfd70",
   "metadata": {},
   "outputs": [],
   "source": [
    "from sklearn.model_selection import StratifiedKFold\n",
    "folds = StratifiedKFold(n_splits=3)\n",
    "\n",
    "scores_logistic = []\n",
    "scores_svm = []\n",
    "scores_rf = []\n",
    "\n",
    "for train_index, test_index in folds.split(digits.data,digits.target):\n",
    "    X_train, X_test, y_train, y_test = digits.data[train_index], digits.data[test_index], \\\n",
    "                                       digits.target[train_index], digits.target[test_index]\n",
    "    scores_logistic.append(get_score(LogisticRegression(solver='liblinear',multi_class='ovr'), X_train, X_test, y_train, y_test))  \n",
    "    scores_svm.append(get_score(SVC(gamma='auto'), X_train, X_test, y_train, y_test))\n",
    "    scores_rf.append(get_score(RandomForestClassifier(n_estimators=40), X_train, X_test, y_train, y_test))"
   ]
  },
  {
   "cell_type": "code",
   "execution_count": 45,
   "id": "a7bdc826-58dd-417c-a41d-36f4498c2236",
   "metadata": {},
   "outputs": [
    {
     "data": {
      "text/plain": [
       "[0.8948247078464107, 0.9532554257095158, 0.9098497495826378]"
      ]
     },
     "execution_count": 45,
     "metadata": {},
     "output_type": "execute_result"
    }
   ],
   "source": [
    "scores_logistic"
   ]
  },
  {
   "cell_type": "code",
   "execution_count": 39,
   "id": "8503384a-c64a-4901-bc78-575fc999c040",
   "metadata": {},
   "outputs": [
    {
     "data": {
      "text/plain": [
       "[0.3806343906510851, 0.41068447412353926, 0.5125208681135225]"
      ]
     },
     "execution_count": 39,
     "metadata": {},
     "output_type": "execute_result"
    }
   ],
   "source": [
    "scores_svm"
   ]
  },
  {
   "cell_type": "code",
   "execution_count": 40,
   "id": "1e58807c-fbb9-423f-9b0b-52b6cacb5595",
   "metadata": {},
   "outputs": [
    {
     "data": {
      "text/plain": [
       "[0.9148580968280468, 0.9565943238731218, 0.9265442404006677]"
      ]
     },
     "execution_count": 40,
     "metadata": {},
     "output_type": "execute_result"
    }
   ],
   "source": [
    "scores_rf"
   ]
  },
  {
   "cell_type": "code",
   "execution_count": 46,
   "id": "3c9dff78-c401-4c63-9973-8b76a59c8791",
   "metadata": {},
   "outputs": [],
   "source": [
    "# cross_val_score function \n",
    "from sklearn.model_selection import cross_val_score\n"
   ]
  },
  {
   "cell_type": "code",
   "execution_count": 49,
   "id": "56c88b6d-a1ba-4b19-82cb-fa5727bd5f23",
   "metadata": {},
   "outputs": [
    {
     "data": {
      "text/plain": [
       "array([0.89482471, 0.95325543, 0.90984975])"
      ]
     },
     "execution_count": 49,
     "metadata": {},
     "output_type": "execute_result"
    }
   ],
   "source": [
    "cross_val_score(LogisticRegression(solver='liblinear',multi_class='ovr'),digits.data,digits.target , cv=3)"
   ]
  },
  {
   "cell_type": "code",
   "execution_count": 50,
   "id": "3c861b9e-dfe8-4e80-b896-0a8e0690971b",
   "metadata": {},
   "outputs": [
    {
     "data": {
      "text/plain": [
       "array([0.93489149, 0.94991653, 0.93322204])"
      ]
     },
     "execution_count": 50,
     "metadata": {},
     "output_type": "execute_result"
    }
   ],
   "source": [
    "cross_val_score(RandomForestClassifier(n_estimators=40),digits.data,digits.target , cv=3)"
   ]
  },
  {
   "cell_type": "code",
   "execution_count": 53,
   "id": "2890c897-9222-4149-84c8-73fe943f4090",
   "metadata": {},
   "outputs": [
    {
     "data": {
      "text/plain": [
       "array([0.38063439, 0.41068447, 0.51252087])"
      ]
     },
     "execution_count": 53,
     "metadata": {},
     "output_type": "execute_result"
    }
   ],
   "source": [
    "cross_val_score(SVC(gamma='auto'),digits.data,digits.target , cv=3)"
   ]
  },
  {
   "cell_type": "code",
   "execution_count": 56,
   "id": "d05c87e1-9697-4e66-ac18-c1e8cad055de",
   "metadata": {},
   "outputs": [
    {
     "data": {
      "text/plain": [
       "0.9321090706733445"
      ]
     },
     "execution_count": 56,
     "metadata": {},
     "output_type": "execute_result"
    }
   ],
   "source": [
    "scores1=cross_val_score(RandomForestClassifier(n_estimators=40),digits.data,digits.target , cv=3)\n",
    "np.average(scores1)"
   ]
  },
  {
   "cell_type": "code",
   "execution_count": 57,
   "id": "64eb1e83-0047-4e5b-81fa-e8c6717e9432",
   "metadata": {},
   "outputs": [
    {
     "data": {
      "text/plain": [
       "0.9376691495965238"
      ]
     },
     "execution_count": 57,
     "metadata": {},
     "output_type": "execute_result"
    }
   ],
   "source": [
    "scores2=cross_val_score(RandomForestClassifier(n_estimators=20),digits.data,digits.target , cv=10)\n",
    "np.average(scores2)\n"
   ]
  },
  {
   "cell_type": "code",
   "execution_count": 58,
   "id": "3c94d833-0181-446c-838e-47e33b0e9893",
   "metadata": {},
   "outputs": [
    {
     "data": {
      "text/plain": [
       "0.9421260086902544"
      ]
     },
     "execution_count": 58,
     "metadata": {},
     "output_type": "execute_result"
    }
   ],
   "source": [
    "scores3=cross_val_score(RandomForestClassifier(n_estimators=30),digits.data,digits.target , cv=10)\n",
    "np.average(scores3)"
   ]
  },
  {
   "cell_type": "code",
   "execution_count": 59,
   "id": "3605eeba-a07b-4bcf-b9e9-260dbe87ac27",
   "metadata": {},
   "outputs": [
    {
     "data": {
      "text/plain": [
       "0.9527032898820608"
      ]
     },
     "execution_count": 59,
     "metadata": {},
     "output_type": "execute_result"
    }
   ],
   "source": [
    "scores4=cross_val_score(RandomForestClassifier(n_estimators=40),digits.data,digits.target , cv=10)\n",
    "np.average(scores4)"
   ]
  },
  {
   "cell_type": "code",
   "execution_count": null,
   "id": "014a42e7-6ad4-4736-a368-58fcd17b550a",
   "metadata": {},
   "outputs": [],
   "source": []
  }
 ],
 "metadata": {
  "kernelspec": {
   "display_name": "Python 3 (ipykernel)",
   "language": "python",
   "name": "python3"
  },
  "language_info": {
   "codemirror_mode": {
    "name": "ipython",
    "version": 3
   },
   "file_extension": ".py",
   "mimetype": "text/x-python",
   "name": "python",
   "nbconvert_exporter": "python",
   "pygments_lexer": "ipython3",
   "version": "3.11.7"
  }
 },
 "nbformat": 4,
 "nbformat_minor": 5
}
