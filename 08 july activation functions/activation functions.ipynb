{
 "cells": [
  {
   "cell_type": "code",
   "execution_count": null,
   "id": "ac065a2c-3219-41b9-b4a4-83ddfa10df66",
   "metadata": {},
   "outputs": [],
   "source": [
    "#Import Libraries \n",
    "import tensorflow as tf\n",
    "from tensorflow.keras.datasets import mnist\n",
    "from tensorflow.keras.models import Sequential\n",
    "from tensorflow.keras.layers import Dense, Flatten\n",
    "from tensorflow.keras.utils import to_categorical"
   ]
  },
  {
   "cell_type": "code",
   "execution_count": null,
   "id": "5d2b744f-f086-4e90-9cf0-cdc9269d9e43",
   "metadata": {},
   "outputs": [],
   "source": [
    "#Load and Preprocess &  MNIST dataset\n",
    "(x_train, y_train), (x_test, y_test) = mnist.load_data()\n",
    "\n",
    "# Normalize the images to a range of 0 to 1\n",
    "x_train = x_train / 255.0\n",
    "x_test = x_test / 255.0\n",
    "\n",
    "# One-hot encode the labels\n",
    "y_train = to_categorical(y_train)\n",
    "y_test = to_categorical(y_test)"
   ]
  },
  {
   "cell_type": "code",
   "execution_count": null,
   "id": "007d4371-837d-4bd9-81ca-1646b1cc1edc",
   "metadata": {},
   "outputs": [],
   "source": [
    "#Build the Model\n",
    "model = Sequential([\n",
    "    Flatten(input_shape=(28, 28)),  # Convert 2D image to 1D vector\n",
    "    Dense(128, activation='relu'),  # Fully connected layer with ReLU activation\n",
    "    Dense(10, activation='softmax') # Output layer with softmax activation for 10 classes\n",
    "])"
   ]
  },
  {
   "cell_type": "code",
   "execution_count": null,
   "id": "745e0e79-a1df-4b43-9896-cb2d278b79e5",
   "metadata": {},
   "outputs": [],
   "source": [
    "# Compile the Model\n",
    "model.compile(optimizer='adam',\n",
    "              loss='categorical_crossentropy',\n",
    "              metrics=['accuracy'])"
   ]
  },
  {
   "cell_type": "code",
   "execution_count": null,
   "id": "17af33ac-2ec5-46bc-8a30-d6369801da7e",
   "metadata": {},
   "outputs": [],
   "source": [
    "#Train the Model\n",
    "model.fit(x_train, y_train, epochs=5, batch_size=32, validation_data=(x_test, y_test))"
   ]
  },
  {
   "cell_type": "code",
   "execution_count": null,
   "id": "ed28f4eb-9728-440e-addb-a93fcf01d46d",
   "metadata": {},
   "outputs": [],
   "source": [
    "#Evaluate the Model\n",
    "test_loss, test_acc = model.evaluate(x_test, y_test)\n",
    "print(f'Test accuracy: {test_acc}')"
   ]
  }
 ],
 "metadata": {
  "kernelspec": {
   "display_name": "Python 3 (ipykernel)",
   "language": "python",
   "name": "python3"
  },
  "language_info": {
   "codemirror_mode": {
    "name": "ipython",
    "version": 3
   },
   "file_extension": ".py",
   "mimetype": "text/x-python",
   "name": "python",
   "nbconvert_exporter": "python",
   "pygments_lexer": "ipython3",
   "version": "3.11.9"
  }
 },
 "nbformat": 4,
 "nbformat_minor": 5
}
