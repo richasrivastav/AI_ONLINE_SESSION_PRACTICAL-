{
 "cells": [
  {
   "cell_type": "code",
   "execution_count": 1,
   "id": "e959e6a5-2878-4e7e-b593-2e9d5cc8f952",
   "metadata": {},
   "outputs": [],
   "source": [
    "import numpy as np\n",
    "def soft (n):\n",
    "    return np.exp(n)/np.sum(exp(n))"
   ]
  },
  {
   "cell_type": "code",
   "execution_count": 2,
   "id": "c8e1eadd-855c-4e93-aff8-87254412cefa",
   "metadata": {},
   "outputs": [],
   "source": [
    "import torch"
   ]
  },
  {
   "cell_type": "code",
   "execution_count": 3,
   "id": "fc29bc90-3e7c-4707-8087-ca64017483f3",
   "metadata": {},
   "outputs": [],
   "source": [
    "# Define the model (linear function)\n",
    "class LinearRegression(torch.nn.Module):\n",
    "    def __init__(self):\n",
    "        super(LinearRegression, self).__init__()\n",
    "        self.linear = torch.nn.Linear(1, 1)  # One input feature, one output\n",
    "\n",
    "    def forward(self, x):\n",
    "        return self.linear(x)\n"
   ]
  },
  {
   "cell_type": "code",
   "execution_count": 4,
   "id": "4b8a59fb-e5ce-40cd-b7e7-b6cea7cda3fe",
   "metadata": {},
   "outputs": [],
   "source": [
    "# Create the model instance\n",
    "model = LinearRegression()"
   ]
  },
  {
   "cell_type": "code",
   "execution_count": 5,
   "id": "4c22c309-3b84-4a8f-bfa4-a822955b4ee6",
   "metadata": {},
   "outputs": [],
   "source": [
    "# Define the loss function (mean squared error)\n",
    "criterion = torch.nn.MSELoss()\n"
   ]
  },
  {
   "cell_type": "code",
   "execution_count": 6,
   "id": "6048dd28-12a6-40eb-aac4-548e83d29882",
   "metadata": {},
   "outputs": [
    {
     "name": "stderr",
     "output_type": "stream",
     "text": [
      "C:\\Users\\DELL\\AppData\\Local\\Programs\\Python\\Python311\\Lib\\site-packages\\tqdm\\auto.py:21: TqdmWarning: IProgress not found. Please update jupyter and ipywidgets. See https://ipywidgets.readthedocs.io/en/stable/user_install.html\n",
      "  from .autonotebook import tqdm as notebook_tqdm\n"
     ]
    }
   ],
   "source": [
    "# Define the optimizer (updates model parameters)\n",
    "optimizer = torch.optim.SGD(model.parameters(), lr=0.01)  # Stochastic gradient descent with learning rate 0.01\n"
   ]
  },
  {
   "cell_type": "code",
   "execution_count": 8,
   "id": "998745d9-fa0b-4e31-a5dc-57d987331f38",
   "metadata": {},
   "outputs": [
    {
     "ename": "NameError",
     "evalue": "name 'x' is not defined",
     "output_type": "error",
     "traceback": [
      "\u001b[1;31m---------------------------------------------------------------------------\u001b[0m",
      "\u001b[1;31mNameError\u001b[0m                                 Traceback (most recent call last)",
      "Cell \u001b[1;32mIn[8], line 4\u001b[0m\n\u001b[0;32m      1\u001b[0m \u001b[38;5;66;03m# Training loop (adjust epochs and learning rate as needed)\u001b[39;00m\n\u001b[0;32m      2\u001b[0m \u001b[38;5;28;01mfor\u001b[39;00m epoch \u001b[38;5;129;01min\u001b[39;00m \u001b[38;5;28mrange\u001b[39m(\u001b[38;5;241m100\u001b[39m):\n\u001b[0;32m      3\u001b[0m     \u001b[38;5;66;03m# Forward pass\u001b[39;00m\n\u001b[1;32m----> 4\u001b[0m     y_pred \u001b[38;5;241m=\u001b[39m model(\u001b[43mx\u001b[49m)\n\u001b[0;32m      5\u001b[0m     loss \u001b[38;5;241m=\u001b[39m criterion(y_pred, y)\n",
      "\u001b[1;31mNameError\u001b[0m: name 'x' is not defined"
     ]
    }
   ],
   "source": [
    "# Training loop (adjust epochs and learning rate as needed)\n",
    "for epoch in range(100):\n",
    "    # Forward pass\n",
    "    y_pred = model(x)\n",
    "    loss = criterion(y_pred, y)"
   ]
  },
  {
   "cell_type": "code",
   "execution_count": null,
   "id": "af1f15ec-77a4-493a-915e-ce3987cb7a05",
   "metadata": {},
   "outputs": [],
   "source": [
    " # Backward pass and parameter update (automatic differentiation)\n",
    "    optimizer.zero_grad()  # Clear gradients\n",
    "    loss.backward()\n",
    "    optimizer.step()"
   ]
  },
  {
   "cell_type": "code",
   "execution_count": null,
   "id": "0578ead7-6204-4b9c-8014-ca2a1cc1ce34",
   "metadata": {},
   "outputs": [],
   "source": [
    " # Print training progress (optional)\n",
    "    if epoch % 10 == 0:\n",
    "        print(f'Epoch {epoch+1}, Loss: {loss.item():.4f}')\n"
   ]
  },
  {
   "cell_type": "code",
   "execution_count": null,
   "id": "fc38daec-2c26-4c92-8516-8c3adbb06a41",
   "metadata": {},
   "outputs": [],
   "source": [
    "# Prediction after training\n",
    "predicted_value = model(torch.tensor([6.0]))  # Predict for a new data point\n",
    "print(f'Predicted value for x=6: {predicted_value.item():.4f}')\n"
   ]
  }
 ],
 "metadata": {
  "kernelspec": {
   "display_name": "Python 3 (ipykernel)",
   "language": "python",
   "name": "python3"
  },
  "language_info": {
   "codemirror_mode": {
    "name": "ipython",
    "version": 3
   },
   "file_extension": ".py",
   "mimetype": "text/x-python",
   "name": "python",
   "nbconvert_exporter": "python",
   "pygments_lexer": "ipython3",
   "version": "3.11.9"
  }
 },
 "nbformat": 4,
 "nbformat_minor": 5
}
