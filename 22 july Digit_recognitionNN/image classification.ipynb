{
 "cells": [
  {
   "cell_type": "code",
   "execution_count": 1,
   "id": "77a35eda-1d84-4b08-8bc6-377800ba5e17",
   "metadata": {},
   "outputs": [],
   "source": [
    "import numpy as np"
   ]
  },
  {
   "cell_type": "code",
   "execution_count": 2,
   "id": "7454b853-693d-4f95-ac97-0be69d04b96c",
   "metadata": {},
   "outputs": [],
   "source": [
    "import tensorflow as tf"
   ]
  },
  {
   "cell_type": "code",
   "execution_count": 3,
   "id": "0a8231ac-05f9-4fee-8aa6-9c17128c2837",
   "metadata": {},
   "outputs": [
    {
     "ename": "NameError",
     "evalue": "name 'fashion_mnist' is not defined",
     "output_type": "error",
     "traceback": [
      "\u001b[1;31m---------------------------------------------------------------------------\u001b[0m",
      "\u001b[1;31mNameError\u001b[0m                                 Traceback (most recent call last)",
      "Cell \u001b[1;32mIn[3], line 2\u001b[0m\n\u001b[0;32m      1\u001b[0m \u001b[38;5;66;03m# Load Fashion MNIST dataset\u001b[39;00m\n\u001b[1;32m----> 2\u001b[0m (X_train, y_train), (X_test, y_test) \u001b[38;5;241m=\u001b[39m \u001b[43mfashion_mnist\u001b[49m\u001b[38;5;241m.\u001b[39mload_data()\n",
      "\u001b[1;31mNameError\u001b[0m: name 'fashion_mnist' is not defined"
     ]
    }
   ],
   "source": [
    "# Load Fashion MNIST dataset\n",
    "(X_train, y_train), (X_test, y_test) = fashion_mnist.load_data()"
   ]
  },
  {
   "cell_type": "code",
   "execution_count": null,
   "id": "6e8be190-c076-46fe-802f-23cb47a7aecd",
   "metadata": {},
   "outputs": [],
   "source": [
    "x_train.shape"
   ]
  },
  {
   "cell_type": "code",
   "execution_count": null,
   "id": "ff88a272-a606-46a4-9402-d08ebf0077d0",
   "metadata": {},
   "outputs": [],
   "source": [
    "x_train[:6]"
   ]
  },
  {
   "cell_type": "code",
   "execution_count": null,
   "id": "a0eeb5bc-1e93-41ed-a37a-cd7f29402c1c",
   "metadata": {},
   "outputs": [],
   "source": [
    "# Reshape \n",
    "X_train = X_train.reshape(-1, 28, 28, 1)\n",
    "X_test = X_test.reshape(-1, 28, 28, 1)"
   ]
  },
  {
   "cell_type": "code",
   "execution_count": null,
   "id": "2d72aaf0-55cd-4dd8-8127-eecf5253dca9",
   "metadata": {},
   "outputs": [],
   "source": [
    "x_train[:5]"
   ]
  },
  {
   "cell_type": "code",
   "execution_count": null,
   "id": "d694876d-d0e4-48ff-bfe0-89ef1526216c",
   "metadata": {},
   "outputs": [],
   "source": [
    "y_test=y_test.reshape(-1) # 10,000\n",
    "y_train"
   ]
  },
  {
   "cell_type": "code",
   "execution_count": null,
   "id": "e3c2dbef-182a-42fa-8a39-113c51a419e3",
   "metadata": {},
   "outputs": [],
   "source": [
    "y_train=y_train.reshape(-1) \n",
    "y_train"
   ]
  },
  {
   "cell_type": "code",
   "execution_count": null,
   "id": "39a95d30-b3d0-40c8-8f70-e106c15aeb45",
   "metadata": {},
   "outputs": [],
   "source": [
    "classes=[\"airplane\",\"automobile\", \"birds\", \"animal\", \"woods\", \"things\"]"
   ]
  },
  {
   "cell_type": "code",
   "execution_count": null,
   "id": "8cc2e452-ec7e-478c-8b5c-a7ec1339042a",
   "metadata": {},
   "outputs": [],
   "source": [
    "plot_sample(X_trai,y_train,3)"
   ]
  },
  {
   "cell_type": "code",
   "execution_count": null,
   "id": "aa1f41a9-fdb2-495d-88ef-14710fb39be5",
   "metadata": {},
   "outputs": [],
   "source": [
    "# normalize training data set"
   ]
  },
  {
   "cell_type": "code",
   "execution_count": null,
   "id": "2634bb21-22ad-4fba-a2be-195652ca2575",
   "metadata": {},
   "outputs": [],
   "source": [
    "X_train=X_train/255.0\n",
    "y_train=y_train/255.0"
   ]
  },
  {
   "cell_type": "code",
   "execution_count": null,
   "id": "e2a794da-58b8-4d6b-995b-16f1634350af",
   "metadata": {},
   "outputs": [],
   "source": [
    "#model ann"
   ]
  },
  {
   "cell_type": "code",
   "execution_count": null,
   "id": "cf82caaf-9bed-480c-b2e1-e8e024266fa6",
   "metadata": {},
   "outputs": [],
   "source": [
    "ann = models.Sequential([\n",
    "    layers.Flatten(input_shape=(28, 28, 1)),\n",
    "    layers.Dense(3000, activation='relu'),\n",
    "    layers.Dense(1000, activation='relu'),\n",
    "    layers.Dense(10, activation='sigmaoid')\n",
    "])\n",
    "\n",
    "# Compile the model\n",
    "ann.compile(optimizer='SGD',  # hyperparameter\n",
    "            loss='sparse_categorical_crossentropy',\n",
    "            metrics=['accuracy'])\n",
    "\n",
    "# Train the model\n",
    "ann.fit(X_train, y_train, epochs=5, verbose=1)"
   ]
  },
  {
   "cell_type": "code",
   "execution_count": null,
   "id": "e615cc28-0bf3-4dff-b74e-7659b6ae8771",
   "metadata": {},
   "outputs": [],
   "source": [
    "#model cnn"
   ]
  },
  {
   "cell_type": "code",
   "execution_count": null,
   "id": "1df2e960-3691-45b4-ab7d-cbc3adead0fe",
   "metadata": {},
   "outputs": [],
   "source": [
    "cnn = models.Sequential([\n",
    "    layers.Flatten(input_shape=(28, 28, 1)),\n",
    "    layers.Dense(3000, activation='relu'),\n",
    "    layers.Dense(1000, activation='relu'),\n",
    "    layers.Dense(10, activation='sigmaoid')\n",
    "])\n",
    "\n",
    "# Compile the model\n",
    "cnn.compile(optimizer='SGD',  # hyperparameter\n",
    "            loss='sparse_categorical_crossentropy',\n",
    "            metrics=['accuracy'])\n",
    "\n",
    "# Train the model\n",
    "cnn.fit(X_train, y_train, epochs=5, verbose=1)\n"
   ]
  },
  {
   "cell_type": "code",
   "execution_count": null,
   "id": "1b3bcb50-f509-4f3b-a8c5-d93ec307f82d",
   "metadata": {},
   "outputs": [],
   "source": [
    "#\n",
    "32*32*3"
   ]
  },
  {
   "cell_type": "code",
   "execution_count": null,
   "id": "a6b17205-f66b-4df2-99df-b48cbd27f788",
   "metadata": {},
   "outputs": [],
   "source": [
    "cnn.evaluate(X_test,y_test)"
   ]
  },
  {
   "cell_type": "code",
   "execution_count": null,
   "id": "5ad10f7a-b45e-4946-994e-1391cb69ea26",
   "metadata": {},
   "outputs": [],
   "source": [
    "y_pred=cnn.predict(X_test)"
   ]
  },
  {
   "cell_type": "code",
   "execution_count": null,
   "id": "6d963a56-8061-498f-9404-eee95290663b",
   "metadata": {},
   "outputs": [],
   "source": [
    "import tensorflow as tf\n",
    "from tensorflow.keras import layers, models\n",
    "from tensorflow.keras.datasets import fashion_mnist\n",
    "from tensorflow.keras.utils import to_categorical"
   ]
  },
  {
   "cell_type": "code",
   "execution_count": null,
   "id": "d7f0bb33-f336-4e58-9346-ac65270568bf",
   "metadata": {},
   "outputs": [],
   "source": [
    "# Evaluate the model\n",
    "test_loss, test_acc = cnn.evaluate(X_test, y_test)\n",
    "print(f'Test accuracy: {test_acc}')\n"
   ]
  }
 ],
 "metadata": {
  "kernelspec": {
   "display_name": "Python 3 (ipykernel)",
   "language": "python",
   "name": "python3"
  },
  "language_info": {
   "codemirror_mode": {
    "name": "ipython",
    "version": 3
   },
   "file_extension": ".py",
   "mimetype": "text/x-python",
   "name": "python",
   "nbconvert_exporter": "python",
   "pygments_lexer": "ipython3",
   "version": "3.11.9"
  }
 },
 "nbformat": 4,
 "nbformat_minor": 5
}
