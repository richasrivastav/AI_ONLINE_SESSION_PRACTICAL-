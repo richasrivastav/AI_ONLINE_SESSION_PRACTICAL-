{
 "cells": [
  {
   "cell_type": "code",
   "execution_count": 1,
   "id": "5c239ab4-a91b-488a-80d2-5fe4ebf2b805",
   "metadata": {},
   "outputs": [],
   "source": [
    "import tensorflow as tf "
   ]
  },
  {
   "cell_type": "code",
   "execution_count": 2,
   "id": "93c2c5d4-7df9-4496-82c2-b7669a0f39b1",
   "metadata": {},
   "outputs": [],
   "source": [
    "import numpy as np"
   ]
  },
  {
   "cell_type": "code",
   "execution_count": 3,
   "id": "1233444d-d449-448d-8b80-569145de7d06",
   "metadata": {},
   "outputs": [],
   "source": [
    "import matplotlib.pyplot as plt"
   ]
  },
  {
   "cell_type": "code",
   "execution_count": 4,
   "id": "6cb7013e-1281-462f-992d-5c46df68f6b2",
   "metadata": {},
   "outputs": [],
   "source": [
    "from tensorflow.keras import models, datasets, layers"
   ]
  },
  {
   "cell_type": "code",
   "execution_count": 5,
   "id": "d10d71fb-9314-4db5-914b-2ddd4d779b24",
   "metadata": {},
   "outputs": [],
   "source": [
    "#load dataset"
   ]
  },
  {
   "cell_type": "code",
   "execution_count": null,
   "id": "1538adf3-eab0-4763-91dd-d8f2ea9b9bce",
   "metadata": {},
   "outputs": [],
   "source": [
    "(X_train, y_train), (X_test, y_test) = tf.keras.datasets.cifar10.load_data()"
   ]
  },
  {
   "cell_type": "code",
   "execution_count": null,
   "id": "974d8baa-7990-4139-bb08-9ba0c37955f2",
   "metadata": {},
   "outputs": [],
   "source": [
    "# shape\n",
    "X_train.shape"
   ]
  },
  {
   "cell_type": "code",
   "execution_count": null,
   "id": "646e015f-1109-4765-8638-2d07cb4f940b",
   "metadata": {},
   "outputs": [],
   "source": [
    "X_test.shape"
   ]
  },
  {
   "cell_type": "code",
   "execution_count": null,
   "id": "e3141b81-4e52-46a8-a018-53c190771c9f",
   "metadata": {},
   "outputs": [],
   "source": [
    "y_train.shape"
   ]
  },
  {
   "cell_type": "code",
   "execution_count": null,
   "id": "6e01e8e4-50f7-42d7-90b3-e0064268d928",
   "metadata": {},
   "outputs": [],
   "source": [
    "y_train"
   ]
  },
  {
   "cell_type": "code",
   "execution_count": null,
   "id": "8c3da51e-944c-42c9-8390-de670d5e9d08",
   "metadata": {},
   "outputs": [],
   "source": [
    "y_train=y_train.reshape(-1)\n",
    "y_test=y_test.reshape(-1)"
   ]
  },
  {
   "cell_type": "code",
   "execution_count": null,
   "id": "9858feb4-688d-410c-bb1a-9f6dc57cf87b",
   "metadata": {},
   "outputs": [],
   "source": [
    "y_train"
   ]
  },
  {
   "cell_type": "code",
   "execution_count": null,
   "id": "a6fb970d-d2c4-4c61-9ec2-5a41bfdff63a",
   "metadata": {},
   "outputs": [],
   "source": [
    "y_test"
   ]
  },
  {
   "cell_type": "code",
   "execution_count": null,
   "id": "06b2dc86-f054-4b9b-9f1e-561cabca1aa6",
   "metadata": {},
   "outputs": [],
   "source": [
    "class_names = ['airplane', 'automobile', 'bird', 'cat', 'deer', 'dog', 'frog', 'horse', 'ship', 'truck']"
   ]
  },
  {
   "cell_type": "code",
   "execution_count": null,
   "id": "b3111797-ad95-4ce9-a164-104fc324796f",
   "metadata": {},
   "outputs": [],
   "source": [
    "# Function to display a grid of images\n",
    "def display_images(images, labels, class_names, num_images=5):\n",
    "    plt.figure(figsize=(10, 2))  #syntax for figsize\n",
    "    for i in range(num_images):\n",
    "        plt.subplot(1, num_images, i + 1)\n",
    "        plt.xticks([])\n",
    "        plt.yticks([])\n",
    "        plt.grid(False)\n",
    "        plt.imshow(images[i])\n",
    "        # plt.xlabel(class_names[labels[i][0]])  # Corrected label indexing\n",
    "    plt.show()"
   ]
  },
  {
   "cell_type": "code",
   "execution_count": null,
   "id": "33191e8a-f8cd-49c8-a716-069906587682",
   "metadata": {},
   "outputs": [],
   "source": [
    "# Display the images from the training set\n",
    "display_images(X_train, y_train, class_names)"
   ]
  },
  {
   "cell_type": "code",
   "execution_count": null,
   "id": "8467a74b-16a8-4562-961a-819fac8c9077",
   "metadata": {},
   "outputs": [],
   "source": [
    "# normalizing\n",
    "X_train=X_train/255.0\n",
    "X_test=X_test/255.0"
   ]
  },
  {
   "cell_type": "code",
   "execution_count": null,
   "id": "6988d512-13f3-43fb-83c5-ad6c4698439f",
   "metadata": {},
   "outputs": [],
   "source": [
    "# Build ANN\n",
    "ann = models.Sequential([\n",
    "    layers.Flatten(input_shape=(32, 32, 3)),\n",
    "    layers.Dense(3000, activation='relu'),\n",
    "    layers.Dense(1000, activation='relu'),\n",
    "    layers.Dense(10, activation='sigmoid')\n",
    "])"
   ]
  },
  {
   "cell_type": "code",
   "execution_count": null,
   "id": "1e686bbb-d450-4057-9b1a-d05064565da9",
   "metadata": {},
   "outputs": [],
   "source": [
    "# Compile the model\n",
    "ann.compile(\n",
    "    optimizer='SGD',  # hyperparameter\n",
    "    loss='sparse_categorical_crossentropy',\n",
    "    metrics=['accuracy'])"
   ]
  },
  {
   "cell_type": "code",
   "execution_count": null,
   "id": "2cda146b-fb28-4b5f-b212-1b631a8dadb5",
   "metadata": {},
   "outputs": [],
   "source": [
    "# Train the model / model fit\n",
    "ann.fit(X_train, y_train, epochs=5, verbose=1)"
   ]
  },
  {
   "cell_type": "code",
   "execution_count": null,
   "id": "f4d1cc5f-30e9-4196-8cd6-090c70dda67e",
   "metadata": {},
   "outputs": [],
   "source": [
    "#model accuracy"
   ]
  },
  {
   "cell_type": "code",
   "execution_count": null,
   "id": "f62b8487-d542-49a8-b65b-7d19f29c9945",
   "metadata": {},
   "outputs": [],
   "source": [
    "#same model cnn"
   ]
  },
  {
   "cell_type": "code",
   "execution_count": null,
   "id": "b40e7967-af35-4487-90b8-6efb60435638",
   "metadata": {},
   "outputs": [],
   "source": [
    "#create model"
   ]
  },
  {
   "cell_type": "code",
   "execution_count": null,
   "id": "503a4f2b-4143-4490-b755-5f4cf6927b20",
   "metadata": {},
   "outputs": [],
   "source": [
    "cnn = models.Sequential([\n",
    "    layers.Conv2D(filters=32, kernel_size=(3, 3), activation='relu', input_shape=(32, 32, 3)),\n",
    "    layers.Conv2D(filters=64, kernel_size=(3, 3), activation='relu'),\n",
    "    layers.MaxPooling2D(pool_size=(2, 2)),\n",
    "    layers.Flatten(),  \n",
    "    layers.Dense(128, activation='relu'), \n",
    "    layers.Dense(10, activation='softmax')  # Output layer for 10 classes \n",
    "])"
   ]
  },
  {
   "cell_type": "code",
   "execution_count": null,
   "id": "4c47f14b-6153-4c27-b8ef-5c7d0f518877",
   "metadata": {},
   "outputs": [],
   "source": [
    "# Compile model\n",
    "model.compile(optimizer='adam', loss='categorical_crossentropy', metrics=['accuracy'])\n",
    "\n",
    "# Train model\n",
    "model.fit(X_train, y_train, epochs=5, batch_size=32, validation_data=(X_test, y_test))\n",
    "\n",
    "# Evaluate model\n",
    "test_loss, test_acc = model.evaluate(X_test, y_test)\n",
    "print('Test accuracy:', test_acc)"
   ]
  },
  {
   "cell_type": "code",
   "execution_count": null,
   "id": "4451ddeb-e770-4110-968b-0d3ca0a36173",
   "metadata": {},
   "outputs": [],
   "source": [
    "# model.fit"
   ]
  },
  {
   "cell_type": "code",
   "execution_count": null,
   "id": "0b07dc33-593e-4205-a5b2-4d5b6bd71dff",
   "metadata": {},
   "outputs": [],
   "source": [
    "cnn.fit(X_train,y_train,epochs=10)"
   ]
  },
  {
   "cell_type": "code",
   "execution_count": null,
   "id": "828ee593-76cb-4c2b-b8ce-9fc140b9f3e6",
   "metadata": {},
   "outputs": [],
   "source": [
    "cnn.evaluate(X_test,y_test)"
   ]
  },
  {
   "cell_type": "code",
   "execution_count": null,
   "id": "86a6e294-434b-4d02-98f1-33ccf79a68f1",
   "metadata": {},
   "outputs": [],
   "source": [
    "y_pred = cnn.predict(X_test)"
   ]
  },
  {
   "cell_type": "code",
   "execution_count": null,
   "id": "9ba57c53-e849-48de-a4e9-cb2531031924",
   "metadata": {},
   "outputs": [],
   "source": [
    "y_pred[:1]"
   ]
  },
  {
   "cell_type": "code",
   "execution_count": null,
   "id": "905f97fb-4a81-479f-bfcd-ab113f491345",
   "metadata": {},
   "outputs": [],
   "source": [
    "import numpy as np"
   ]
  }
 ],
 "metadata": {
  "kernelspec": {
   "display_name": "Python 3 (ipykernel)",
   "language": "python",
   "name": "python3"
  },
  "language_info": {
   "codemirror_mode": {
    "name": "ipython",
    "version": 3
   },
   "file_extension": ".py",
   "mimetype": "text/x-python",
   "name": "python",
   "nbconvert_exporter": "python",
   "pygments_lexer": "ipython3",
   "version": "3.11.9"
  }
 },
 "nbformat": 4,
 "nbformat_minor": 5
}
