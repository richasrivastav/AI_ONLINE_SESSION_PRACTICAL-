{
 "cells": [
  {
   "cell_type": "code",
   "execution_count": 5,
   "id": "764e72b9-f6b4-4b7a-b4f1-8e8860d7002c",
   "metadata": {},
   "outputs": [],
   "source": [
    "import pickle"
   ]
  },
  {
   "cell_type": "code",
   "execution_count": 6,
   "id": "19a68263-95d9-40a5-ae4e-52dc47e1c0d7",
   "metadata": {},
   "outputs": [],
   "source": [
    "with open('model_pickle','rb') as f:\n",
    "    model2 = pickle.load(f)"
   ]
  },
  {
   "cell_type": "code",
   "execution_count": 7,
   "id": "85156338-8533-485f-991b-b7cfd81a4315",
   "metadata": {},
   "outputs": [
    {
     "data": {
      "text/plain": [
       "array([497.94871795])"
      ]
     },
     "execution_count": 7,
     "metadata": {},
     "output_type": "execute_result"
    }
   ],
   "source": [
    "model2.coef_"
   ]
  },
  {
   "cell_type": "code",
   "execution_count": 8,
   "id": "32bbd563-8358-4001-bb16-777f5fa44f9f",
   "metadata": {},
   "outputs": [
    {
     "data": {
      "text/plain": [
       "-165547.00854700868"
      ]
     },
     "execution_count": 8,
     "metadata": {},
     "output_type": "execute_result"
    }
   ],
   "source": [
    "model2.intercept_"
   ]
  },
  {
   "cell_type": "code",
   "execution_count": null,
   "id": "716fd749-0bc1-46d2-a561-c8d2d7ac99df",
   "metadata": {},
   "outputs": [],
   "source": []
  }
 ],
 "metadata": {
  "kernelspec": {
   "display_name": "Python 3 (ipykernel)",
   "language": "python",
   "name": "python3"
  },
  "language_info": {
   "codemirror_mode": {
    "name": "ipython",
    "version": 3
   },
   "file_extension": ".py",
   "mimetype": "text/x-python",
   "name": "python",
   "nbconvert_exporter": "python",
   "pygments_lexer": "ipython3",
   "version": "3.10.11"
  }
 },
 "nbformat": 4,
 "nbformat_minor": 5
}
