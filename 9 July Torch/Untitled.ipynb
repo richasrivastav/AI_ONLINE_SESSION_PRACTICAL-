{
 "cells": [
  {
   "cell_type": "code",
   "execution_count": 1,
   "id": "d9f0532e-e1f1-4f3d-9d37-4a592cc0e019",
   "metadata": {},
   "outputs": [],
   "source": [
    "import torch"
   ]
  },
  {
   "cell_type": "code",
   "execution_count": 7,
   "id": "c9315e48-465c-40e0-ae71-4d40d590d915",
   "metadata": {},
   "outputs": [],
   "source": [
    "import numpy as np"
   ]
  },
  {
   "cell_type": "code",
   "execution_count": 8,
   "id": "817d5545-4d19-4b3d-87a5-fad18a01a533",
   "metadata": {},
   "outputs": [],
   "source": [
    "def soft(n):\n",
    "    return np.exp(n)/np.sum(np.exp(n))"
   ]
  },
  {
   "cell_type": "code",
   "execution_count": 9,
   "id": "153bb4a4-8507-4328-805a-e39876606934",
   "metadata": {},
   "outputs": [],
   "source": [
    "x = np.array([2,2.2,2.8,3,3.4,3.9,4,4.9])"
   ]
  },
  {
   "cell_type": "code",
   "execution_count": 11,
   "id": "9c8a67aa-61f0-46e2-96c9-9c9f220d2513",
   "metadata": {},
   "outputs": [
    {
     "data": {
      "text/plain": [
       "array([0.02300462, 0.02809791, 0.05119773, 0.06253305, 0.09328835,\n",
       "       0.15380649, 0.16998246, 0.41808938])"
      ]
     },
     "execution_count": 11,
     "metadata": {},
     "output_type": "execute_result"
    }
   ],
   "source": [
    "output = soft(x)\n",
    "output"
   ]
  },
  {
   "cell_type": "code",
   "execution_count": 16,
   "id": "79cb1924-c45d-4ba3-aadb-e215fa38e5d9",
   "metadata": {},
   "outputs": [
    {
     "data": {
      "text/plain": [
       "tensor([2.0000, 2.2000, 2.8000, 3.0000, 3.4000, 3.9000, 4.0000, 4.9000])"
      ]
     },
     "execution_count": 16,
     "metadata": {},
     "output_type": "execute_result"
    }
   ],
   "source": [
    "y = torch.tensor(x)\n",
    "y"
   ]
  },
  {
   "cell_type": "code",
   "execution_count": 17,
   "id": "f655e106-cd17-45cc-9177-9233d5b8ff62",
   "metadata": {},
   "outputs": [
    {
     "data": {
      "text/plain": [
       "tensor([0.0230, 0.0281, 0.0512, 0.0625, 0.0933, 0.1538, 0.1700, 0.4181])"
      ]
     },
     "execution_count": 17,
     "metadata": {},
     "output_type": "execute_result"
    }
   ],
   "source": [
    "torch.softmax(y , dim=0)"
   ]
  },
  {
   "cell_type": "code",
   "execution_count": 18,
   "id": "0db393e4-9b20-4fe4-8d41-5378cf737ff9",
   "metadata": {},
   "outputs": [
    {
     "data": {
      "text/plain": [
       "tensor([0.8808, 0.9002, 0.9427, 0.9526, 0.9677, 0.9802, 0.9820, 0.9926])"
      ]
     },
     "execution_count": 18,
     "metadata": {},
     "output_type": "execute_result"
    }
   ],
   "source": [
    "torch.sigmoid(y)"
   ]
  },
  {
   "cell_type": "code",
   "execution_count": 19,
   "id": "30435223-bd3a-4de4-892e-3fabdec10360",
   "metadata": {},
   "outputs": [
    {
     "data": {
      "text/plain": [
       "tensor([2.0000, 2.2000, 2.8000, 3.0000, 3.4000, 3.9000, 4.0000, 4.9000])"
      ]
     },
     "execution_count": 19,
     "metadata": {},
     "output_type": "execute_result"
    }
   ],
   "source": [
    "torch.relu(y)"
   ]
  },
  {
   "cell_type": "code",
   "execution_count": 20,
   "id": "a2db037b-aa6a-453b-991a-42e5e02a0655",
   "metadata": {},
   "outputs": [
    {
     "data": {
      "text/plain": [
       "tensor([0.9640, 0.9757, 0.9926, 0.9951, 0.9978, 0.9992, 0.9993, 0.9999])"
      ]
     },
     "execution_count": 20,
     "metadata": {},
     "output_type": "execute_result"
    }
   ],
   "source": [
    "torch.tanh(y)"
   ]
  },
  {
   "cell_type": "code",
   "execution_count": null,
   "id": "8190c4f6-c470-4b80-8e6f-2c5c44493cc9",
   "metadata": {},
   "outputs": [],
   "source": []
  }
 ],
 "metadata": {
  "kernelspec": {
   "display_name": "Python 3 (ipykernel)",
   "language": "python",
   "name": "python3"
  },
  "language_info": {
   "codemirror_mode": {
    "name": "ipython",
    "version": 3
   },
   "file_extension": ".py",
   "mimetype": "text/x-python",
   "name": "python",
   "nbconvert_exporter": "python",
   "pygments_lexer": "ipython3",
   "version": "3.11.9"
  }
 },
 "nbformat": 4,
 "nbformat_minor": 5
}
