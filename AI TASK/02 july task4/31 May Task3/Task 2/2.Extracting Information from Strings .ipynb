{
 "cells": [
  {
   "cell_type": "markdown",
   "id": "ddbf51b5-ba00-4206-bc66-6647a15e88b3",
   "metadata": {},
   "source": [
    "### Scenario: You have a list of email addresses. \n",
    "\n",
    "### Goal: Extract the username (part before the \"@\" symbol) from each email address. \n"
   ]
  },
  {
   "cell_type": "code",
   "execution_count": 1,
   "id": "95778235-1bc1-4b3c-bc9b-4823e09ce011",
   "metadata": {},
   "outputs": [],
   "source": [
    "# install and import library \n",
    "# pip install pandas\n",
    "import pandas as pd"
   ]
  },
  {
   "cell_type": "code",
   "execution_count": 2,
   "id": "50baa31f-e56c-48d6-b6ff-febae0a22791",
   "metadata": {},
   "outputs": [],
   "source": [
    "# Load the dataset from a CSV file\n",
    "df = pd.read_csv('hotel_booking.csv')"
   ]
  },
  {
   "cell_type": "code",
   "execution_count": 3,
   "id": "27a19c67-d199-4a31-943f-a3bc8aa60be4",
   "metadata": {},
   "outputs": [
    {
     "data": {
      "text/html": [
       "<div>\n",
       "<style scoped>\n",
       "    .dataframe tbody tr th:only-of-type {\n",
       "        vertical-align: middle;\n",
       "    }\n",
       "\n",
       "    .dataframe tbody tr th {\n",
       "        vertical-align: top;\n",
       "    }\n",
       "\n",
       "    .dataframe thead th {\n",
       "        text-align: right;\n",
       "    }\n",
       "</style>\n",
       "<table border=\"1\" class=\"dataframe\">\n",
       "  <thead>\n",
       "    <tr style=\"text-align: right;\">\n",
       "      <th></th>\n",
       "      <th>hotel</th>\n",
       "      <th>name</th>\n",
       "      <th>email</th>\n",
       "      <th>phone-number</th>\n",
       "    </tr>\n",
       "  </thead>\n",
       "  <tbody>\n",
       "    <tr>\n",
       "      <th>0</th>\n",
       "      <td>Heritage Grand Hotel</td>\n",
       "      <td>Ernest Barnes</td>\n",
       "      <td>Ernest.Barnes31@outlook.com</td>\n",
       "      <td>669-792-1661</td>\n",
       "    </tr>\n",
       "    <tr>\n",
       "      <th>1</th>\n",
       "      <td>Heritage Grand Hotel</td>\n",
       "      <td>Andrea Baker</td>\n",
       "      <td>Andrea_Baker94@aol.com</td>\n",
       "      <td>858-637-6955</td>\n",
       "    </tr>\n",
       "    <tr>\n",
       "      <th>2</th>\n",
       "      <td>The Grand Horizon Hotel</td>\n",
       "      <td>Rebecca Parker</td>\n",
       "      <td>Rebecca_Parker@comcast.net</td>\n",
       "      <td>652-885-2745</td>\n",
       "    </tr>\n",
       "    <tr>\n",
       "      <th>3</th>\n",
       "      <td>Heritage Grand Hotel</td>\n",
       "      <td>Laura Murray</td>\n",
       "      <td>Laura_M@gmail.com</td>\n",
       "      <td>364-656-8427</td>\n",
       "    </tr>\n",
       "    <tr>\n",
       "      <th>4</th>\n",
       "      <td>The Grand Horizon Hotel</td>\n",
       "      <td>Linda Hines</td>\n",
       "      <td>LHines@verizon.com</td>\n",
       "      <td>713-226-5883</td>\n",
       "    </tr>\n",
       "  </tbody>\n",
       "</table>\n",
       "</div>"
      ],
      "text/plain": [
       "                     hotel            name                        email  \\\n",
       "0     Heritage Grand Hotel   Ernest Barnes  Ernest.Barnes31@outlook.com   \n",
       "1     Heritage Grand Hotel    Andrea Baker       Andrea_Baker94@aol.com   \n",
       "2  The Grand Horizon Hotel  Rebecca Parker   Rebecca_Parker@comcast.net   \n",
       "3     Heritage Grand Hotel    Laura Murray            Laura_M@gmail.com   \n",
       "4  The Grand Horizon Hotel     Linda Hines           LHines@verizon.com   \n",
       "\n",
       "   phone-number  \n",
       "0  669-792-1661  \n",
       "1  858-637-6955  \n",
       "2  652-885-2745  \n",
       "3  364-656-8427  \n",
       "4  713-226-5883  "
      ]
     },
     "execution_count": 3,
     "metadata": {},
     "output_type": "execute_result"
    }
   ],
   "source": [
    "df.head()"
   ]
  },
  {
   "cell_type": "code",
   "execution_count": 4,
   "id": "0b76bf9a-5b34-4dff-9d3c-b1f275085461",
   "metadata": {},
   "outputs": [
    {
     "name": "stdout",
     "output_type": "stream",
     "text": [
      "<class 'pandas.core.frame.DataFrame'>\n",
      "RangeIndex: 100 entries, 0 to 99\n",
      "Data columns (total 4 columns):\n",
      " #   Column        Non-Null Count  Dtype \n",
      "---  ------        --------------  ----- \n",
      " 0   hotel         100 non-null    object\n",
      " 1   name          100 non-null    object\n",
      " 2   email         100 non-null    object\n",
      " 3   phone-number  100 non-null    object\n",
      "dtypes: object(4)\n",
      "memory usage: 3.2+ KB\n"
     ]
    }
   ],
   "source": [
    "df.info()"
   ]
  },
  {
   "cell_type": "code",
   "execution_count": 5,
   "id": "c83527f7-f1ba-46f5-b8a6-5ffb7db47e44",
   "metadata": {},
   "outputs": [
    {
     "data": {
      "text/plain": [
       "(100, 4)"
      ]
     },
     "execution_count": 5,
     "metadata": {},
     "output_type": "execute_result"
    }
   ],
   "source": [
    "# dimension of dataset\n",
    "df.shape"
   ]
  },
  {
   "cell_type": "code",
   "execution_count": 7,
   "id": "ac0b7480-bf48-4463-9d5d-071a413e6f40",
   "metadata": {},
   "outputs": [],
   "source": [
    "df['username'] = df['email'].apply(lambda x: x.split('@')[0])"
   ]
  },
  {
   "cell_type": "code",
   "execution_count": 8,
   "id": "ba657e89-8156-4663-b341-05f6c337ff6c",
   "metadata": {},
   "outputs": [
    {
     "data": {
      "text/html": [
       "<div>\n",
       "<style scoped>\n",
       "    .dataframe tbody tr th:only-of-type {\n",
       "        vertical-align: middle;\n",
       "    }\n",
       "\n",
       "    .dataframe tbody tr th {\n",
       "        vertical-align: top;\n",
       "    }\n",
       "\n",
       "    .dataframe thead th {\n",
       "        text-align: right;\n",
       "    }\n",
       "</style>\n",
       "<table border=\"1\" class=\"dataframe\">\n",
       "  <thead>\n",
       "    <tr style=\"text-align: right;\">\n",
       "      <th></th>\n",
       "      <th>hotel</th>\n",
       "      <th>name</th>\n",
       "      <th>email</th>\n",
       "      <th>phone-number</th>\n",
       "      <th>username</th>\n",
       "    </tr>\n",
       "  </thead>\n",
       "  <tbody>\n",
       "    <tr>\n",
       "      <th>0</th>\n",
       "      <td>Heritage Grand Hotel</td>\n",
       "      <td>Ernest Barnes</td>\n",
       "      <td>Ernest.Barnes31@outlook.com</td>\n",
       "      <td>669-792-1661</td>\n",
       "      <td>Ernest.Barnes31</td>\n",
       "    </tr>\n",
       "    <tr>\n",
       "      <th>1</th>\n",
       "      <td>Heritage Grand Hotel</td>\n",
       "      <td>Andrea Baker</td>\n",
       "      <td>Andrea_Baker94@aol.com</td>\n",
       "      <td>858-637-6955</td>\n",
       "      <td>Andrea_Baker94</td>\n",
       "    </tr>\n",
       "    <tr>\n",
       "      <th>2</th>\n",
       "      <td>The Grand Horizon Hotel</td>\n",
       "      <td>Rebecca Parker</td>\n",
       "      <td>Rebecca_Parker@comcast.net</td>\n",
       "      <td>652-885-2745</td>\n",
       "      <td>Rebecca_Parker</td>\n",
       "    </tr>\n",
       "    <tr>\n",
       "      <th>3</th>\n",
       "      <td>Heritage Grand Hotel</td>\n",
       "      <td>Laura Murray</td>\n",
       "      <td>Laura_M@gmail.com</td>\n",
       "      <td>364-656-8427</td>\n",
       "      <td>Laura_M</td>\n",
       "    </tr>\n",
       "    <tr>\n",
       "      <th>4</th>\n",
       "      <td>The Grand Horizon Hotel</td>\n",
       "      <td>Linda Hines</td>\n",
       "      <td>LHines@verizon.com</td>\n",
       "      <td>713-226-5883</td>\n",
       "      <td>LHines</td>\n",
       "    </tr>\n",
       "    <tr>\n",
       "      <th>...</th>\n",
       "      <td>...</td>\n",
       "      <td>...</td>\n",
       "      <td>...</td>\n",
       "      <td>...</td>\n",
       "      <td>...</td>\n",
       "    </tr>\n",
       "    <tr>\n",
       "      <th>95</th>\n",
       "      <td>Ocean Breeze Resort</td>\n",
       "      <td>Nicole Campbell</td>\n",
       "      <td>NicoleCampbell26@zoho.com</td>\n",
       "      <td>438-796-8267</td>\n",
       "      <td>NicoleCampbell26</td>\n",
       "    </tr>\n",
       "    <tr>\n",
       "      <th>96</th>\n",
       "      <td>Ocean Breeze Resort</td>\n",
       "      <td>James Hill</td>\n",
       "      <td>Hill.James@mail.com</td>\n",
       "      <td>448-162-3076</td>\n",
       "      <td>Hill.James</td>\n",
       "    </tr>\n",
       "    <tr>\n",
       "      <th>97</th>\n",
       "      <td>Ocean Breeze Resort</td>\n",
       "      <td>Daniel Richard</td>\n",
       "      <td>Daniel_R@xfinity.com</td>\n",
       "      <td>540-499-1735</td>\n",
       "      <td>Daniel_R</td>\n",
       "    </tr>\n",
       "    <tr>\n",
       "      <th>98</th>\n",
       "      <td>Ocean Breeze Resort</td>\n",
       "      <td>Jacob Porter</td>\n",
       "      <td>Porter_Jacob@verizon.com</td>\n",
       "      <td>432-456-4500</td>\n",
       "      <td>Porter_Jacob</td>\n",
       "    </tr>\n",
       "    <tr>\n",
       "      <th>99</th>\n",
       "      <td>Ocean Breeze Resort</td>\n",
       "      <td>Susan Wilson</td>\n",
       "      <td>Wilson_Susan@comcast.net</td>\n",
       "      <td>253-535-6431</td>\n",
       "      <td>Wilson_Susan</td>\n",
       "    </tr>\n",
       "  </tbody>\n",
       "</table>\n",
       "<p>100 rows × 5 columns</p>\n",
       "</div>"
      ],
      "text/plain": [
       "                      hotel             name                        email  \\\n",
       "0      Heritage Grand Hotel    Ernest Barnes  Ernest.Barnes31@outlook.com   \n",
       "1      Heritage Grand Hotel     Andrea Baker       Andrea_Baker94@aol.com   \n",
       "2   The Grand Horizon Hotel   Rebecca Parker   Rebecca_Parker@comcast.net   \n",
       "3      Heritage Grand Hotel     Laura Murray            Laura_M@gmail.com   \n",
       "4   The Grand Horizon Hotel      Linda Hines           LHines@verizon.com   \n",
       "..                      ...              ...                          ...   \n",
       "95      Ocean Breeze Resort  Nicole Campbell    NicoleCampbell26@zoho.com   \n",
       "96      Ocean Breeze Resort       James Hill          Hill.James@mail.com   \n",
       "97      Ocean Breeze Resort   Daniel Richard         Daniel_R@xfinity.com   \n",
       "98      Ocean Breeze Resort     Jacob Porter     Porter_Jacob@verizon.com   \n",
       "99      Ocean Breeze Resort     Susan Wilson     Wilson_Susan@comcast.net   \n",
       "\n",
       "    phone-number          username  \n",
       "0   669-792-1661   Ernest.Barnes31  \n",
       "1   858-637-6955    Andrea_Baker94  \n",
       "2   652-885-2745    Rebecca_Parker  \n",
       "3   364-656-8427           Laura_M  \n",
       "4   713-226-5883            LHines  \n",
       "..           ...               ...  \n",
       "95  438-796-8267  NicoleCampbell26  \n",
       "96  448-162-3076        Hill.James  \n",
       "97  540-499-1735          Daniel_R  \n",
       "98  432-456-4500      Porter_Jacob  \n",
       "99  253-535-6431      Wilson_Susan  \n",
       "\n",
       "[100 rows x 5 columns]"
      ]
     },
     "execution_count": 8,
     "metadata": {},
     "output_type": "execute_result"
    }
   ],
   "source": [
    "df"
   ]
  },
  {
   "cell_type": "code",
   "execution_count": null,
   "id": "8cf086d6-d5d4-4a36-855d-b3f7f58bfbf9",
   "metadata": {},
   "outputs": [],
   "source": []
  },
  {
   "cell_type": "code",
   "execution_count": null,
   "id": "f5db04fe-79ba-49dc-a152-dce6932abc4b",
   "metadata": {},
   "outputs": [],
   "source": []
  },
  {
   "cell_type": "code",
   "execution_count": null,
   "id": "f878ad4a-982f-4007-b2cd-48b1b15740f6",
   "metadata": {},
   "outputs": [],
   "source": []
  },
  {
   "cell_type": "code",
   "execution_count": null,
   "id": "995abfc4-0d11-4758-bfe8-55d6daccaf2b",
   "metadata": {},
   "outputs": [],
   "source": []
  }
 ],
 "metadata": {
  "kernelspec": {
   "display_name": "Python 3 (ipykernel)",
   "language": "python",
   "name": "python3"
  },
  "language_info": {
   "codemirror_mode": {
    "name": "ipython",
    "version": 3
   },
   "file_extension": ".py",
   "mimetype": "text/x-python",
   "name": "python",
   "nbconvert_exporter": "python",
   "pygments_lexer": "ipython3",
   "version": "3.10.11"
  }
 },
 "nbformat": 4,
 "nbformat_minor": 5
}
