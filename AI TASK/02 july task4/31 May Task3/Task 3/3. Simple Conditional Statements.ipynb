{
 "cells": [
  {
   "cell_type": "markdown",
   "id": "759a1000-83fe-4949-ae42-acf06b2286fd",
   "metadata": {},
   "source": [
    "### Scenario: You have a list of product prices and a discount percentage. \n",
    "\n",
    "### Goal: Write code to calculate the final price for each product after applying the discount. "
   ]
  },
  {
   "cell_type": "code",
   "execution_count": 1,
   "id": "8074b41b-6e95-4bdd-ab70-c429eb3cbce5",
   "metadata": {},
   "outputs": [],
   "source": [
    "# install and import library \n",
    "# pip install pandas\n",
    "import pandas as pd"
   ]
  },
  {
   "cell_type": "code",
   "execution_count": 2,
   "id": "125d5181-6ce3-4d02-acd0-0ba42e04c01b",
   "metadata": {},
   "outputs": [],
   "source": [
    "# Load the dataset from a CSV file\n",
    "df1 = pd.read_csv('Adidas_shoes.csv')"
   ]
  },
  {
   "cell_type": "code",
   "execution_count": 3,
   "id": "744fc552-27b3-44ca-ac67-3054112bbdc3",
   "metadata": {},
   "outputs": [
    {
     "data": {
      "text/plain": [
       "(100, 4)"
      ]
     },
     "execution_count": 3,
     "metadata": {},
     "output_type": "execute_result"
    }
   ],
   "source": [
    "# dimension of dataset\n",
    "df1.shape"
   ]
  },
  {
   "cell_type": "code",
   "execution_count": 4,
   "id": "397d4a78-15c0-4415-8319-1ad4fb32b5f0",
   "metadata": {},
   "outputs": [
    {
     "data": {
      "text/html": [
       "<div>\n",
       "<style scoped>\n",
       "    .dataframe tbody tr th:only-of-type {\n",
       "        vertical-align: middle;\n",
       "    }\n",
       "\n",
       "    .dataframe tbody tr th {\n",
       "        vertical-align: top;\n",
       "    }\n",
       "\n",
       "    .dataframe thead th {\n",
       "        text-align: right;\n",
       "    }\n",
       "</style>\n",
       "<table border=\"1\" class=\"dataframe\">\n",
       "  <thead>\n",
       "    <tr style=\"text-align: right;\">\n",
       "      <th></th>\n",
       "      <th>Product Name</th>\n",
       "      <th>Listing Price</th>\n",
       "      <th>Discount</th>\n",
       "      <th>Rating</th>\n",
       "    </tr>\n",
       "  </thead>\n",
       "  <tbody>\n",
       "    <tr>\n",
       "      <th>0</th>\n",
       "      <td>Women's adidas Originals NMD_Racer Primeknit S...</td>\n",
       "      <td>14999</td>\n",
       "      <td>50</td>\n",
       "      <td>4.8</td>\n",
       "    </tr>\n",
       "    <tr>\n",
       "      <th>1</th>\n",
       "      <td>Women's adidas Originals Sleek Shoes</td>\n",
       "      <td>7599</td>\n",
       "      <td>50</td>\n",
       "      <td>3.3</td>\n",
       "    </tr>\n",
       "    <tr>\n",
       "      <th>2</th>\n",
       "      <td>Women's adidas Swim Puka Slippers</td>\n",
       "      <td>999</td>\n",
       "      <td>40</td>\n",
       "      <td>2.6</td>\n",
       "    </tr>\n",
       "    <tr>\n",
       "      <th>3</th>\n",
       "      <td>Women's adidas Sport Inspired Questar Ride Shoes</td>\n",
       "      <td>6999</td>\n",
       "      <td>50</td>\n",
       "      <td>4.1</td>\n",
       "    </tr>\n",
       "    <tr>\n",
       "      <th>4</th>\n",
       "      <td>Women's adidas Originals Taekwondo Shoes</td>\n",
       "      <td>7999</td>\n",
       "      <td>50</td>\n",
       "      <td>3.5</td>\n",
       "    </tr>\n",
       "  </tbody>\n",
       "</table>\n",
       "</div>"
      ],
      "text/plain": [
       "                                        Product Name  Listing Price  Discount  \\\n",
       "0  Women's adidas Originals NMD_Racer Primeknit S...          14999        50   \n",
       "1               Women's adidas Originals Sleek Shoes           7599        50   \n",
       "2                  Women's adidas Swim Puka Slippers            999        40   \n",
       "3   Women's adidas Sport Inspired Questar Ride Shoes           6999        50   \n",
       "4           Women's adidas Originals Taekwondo Shoes           7999        50   \n",
       "\n",
       "   Rating  \n",
       "0     4.8  \n",
       "1     3.3  \n",
       "2     2.6  \n",
       "3     4.1  \n",
       "4     3.5  "
      ]
     },
     "execution_count": 4,
     "metadata": {},
     "output_type": "execute_result"
    }
   ],
   "source": [
    "# top 5 rows\n",
    "df1.head()"
   ]
  },
  {
   "cell_type": "code",
   "execution_count": 5,
   "id": "435824d1-0314-4b45-a815-05c28c404cce",
   "metadata": {},
   "outputs": [],
   "source": [
    "# Apply discount and calculate Discount_Price \n",
    "df1['Discount_Price'] = df1['Listing Price']*df1['Discount']/100"
   ]
  },
  {
   "cell_type": "code",
   "execution_count": 6,
   "id": "e62d3fba-06c1-476d-850d-3df68866d524",
   "metadata": {},
   "outputs": [
    {
     "data": {
      "text/html": [
       "<div>\n",
       "<style scoped>\n",
       "    .dataframe tbody tr th:only-of-type {\n",
       "        vertical-align: middle;\n",
       "    }\n",
       "\n",
       "    .dataframe tbody tr th {\n",
       "        vertical-align: top;\n",
       "    }\n",
       "\n",
       "    .dataframe thead th {\n",
       "        text-align: right;\n",
       "    }\n",
       "</style>\n",
       "<table border=\"1\" class=\"dataframe\">\n",
       "  <thead>\n",
       "    <tr style=\"text-align: right;\">\n",
       "      <th></th>\n",
       "      <th>Product Name</th>\n",
       "      <th>Listing Price</th>\n",
       "      <th>Discount</th>\n",
       "      <th>Rating</th>\n",
       "      <th>Discount_Price</th>\n",
       "    </tr>\n",
       "  </thead>\n",
       "  <tbody>\n",
       "    <tr>\n",
       "      <th>0</th>\n",
       "      <td>Women's adidas Originals NMD_Racer Primeknit S...</td>\n",
       "      <td>14999</td>\n",
       "      <td>50</td>\n",
       "      <td>4.8</td>\n",
       "      <td>7499.5</td>\n",
       "    </tr>\n",
       "    <tr>\n",
       "      <th>1</th>\n",
       "      <td>Women's adidas Originals Sleek Shoes</td>\n",
       "      <td>7599</td>\n",
       "      <td>50</td>\n",
       "      <td>3.3</td>\n",
       "      <td>3799.5</td>\n",
       "    </tr>\n",
       "    <tr>\n",
       "      <th>2</th>\n",
       "      <td>Women's adidas Swim Puka Slippers</td>\n",
       "      <td>999</td>\n",
       "      <td>40</td>\n",
       "      <td>2.6</td>\n",
       "      <td>399.6</td>\n",
       "    </tr>\n",
       "    <tr>\n",
       "      <th>3</th>\n",
       "      <td>Women's adidas Sport Inspired Questar Ride Shoes</td>\n",
       "      <td>6999</td>\n",
       "      <td>50</td>\n",
       "      <td>4.1</td>\n",
       "      <td>3499.5</td>\n",
       "    </tr>\n",
       "    <tr>\n",
       "      <th>4</th>\n",
       "      <td>Women's adidas Originals Taekwondo Shoes</td>\n",
       "      <td>7999</td>\n",
       "      <td>50</td>\n",
       "      <td>3.5</td>\n",
       "      <td>3999.5</td>\n",
       "    </tr>\n",
       "  </tbody>\n",
       "</table>\n",
       "</div>"
      ],
      "text/plain": [
       "                                        Product Name  Listing Price  Discount  \\\n",
       "0  Women's adidas Originals NMD_Racer Primeknit S...          14999        50   \n",
       "1               Women's adidas Originals Sleek Shoes           7599        50   \n",
       "2                  Women's adidas Swim Puka Slippers            999        40   \n",
       "3   Women's adidas Sport Inspired Questar Ride Shoes           6999        50   \n",
       "4           Women's adidas Originals Taekwondo Shoes           7999        50   \n",
       "\n",
       "   Rating  Discount_Price  \n",
       "0     4.8          7499.5  \n",
       "1     3.3          3799.5  \n",
       "2     2.6           399.6  \n",
       "3     4.1          3499.5  \n",
       "4     3.5          3999.5  "
      ]
     },
     "execution_count": 6,
     "metadata": {},
     "output_type": "execute_result"
    }
   ],
   "source": [
    "df1.head()"
   ]
  },
  {
   "cell_type": "code",
   "execution_count": 7,
   "id": "e1bdfee1-bb06-4cdb-96d2-a24a58a2903d",
   "metadata": {},
   "outputs": [],
   "source": [
    "# final price of sale\n",
    "df1['Sales_Price'] = df1['Listing Price'] - df1['Discount_Price']"
   ]
  },
  {
   "cell_type": "code",
   "execution_count": 8,
   "id": "1e3196b2-218c-40e2-9fca-8a8004bb2cde",
   "metadata": {},
   "outputs": [
    {
     "data": {
      "text/html": [
       "<div>\n",
       "<style scoped>\n",
       "    .dataframe tbody tr th:only-of-type {\n",
       "        vertical-align: middle;\n",
       "    }\n",
       "\n",
       "    .dataframe tbody tr th {\n",
       "        vertical-align: top;\n",
       "    }\n",
       "\n",
       "    .dataframe thead th {\n",
       "        text-align: right;\n",
       "    }\n",
       "</style>\n",
       "<table border=\"1\" class=\"dataframe\">\n",
       "  <thead>\n",
       "    <tr style=\"text-align: right;\">\n",
       "      <th></th>\n",
       "      <th>Product Name</th>\n",
       "      <th>Listing Price</th>\n",
       "      <th>Discount</th>\n",
       "      <th>Rating</th>\n",
       "      <th>Discount_Price</th>\n",
       "      <th>Sales_Price</th>\n",
       "    </tr>\n",
       "  </thead>\n",
       "  <tbody>\n",
       "    <tr>\n",
       "      <th>0</th>\n",
       "      <td>Women's adidas Originals NMD_Racer Primeknit S...</td>\n",
       "      <td>14999</td>\n",
       "      <td>50</td>\n",
       "      <td>4.8</td>\n",
       "      <td>7499.5</td>\n",
       "      <td>7499.5</td>\n",
       "    </tr>\n",
       "    <tr>\n",
       "      <th>1</th>\n",
       "      <td>Women's adidas Originals Sleek Shoes</td>\n",
       "      <td>7599</td>\n",
       "      <td>50</td>\n",
       "      <td>3.3</td>\n",
       "      <td>3799.5</td>\n",
       "      <td>3799.5</td>\n",
       "    </tr>\n",
       "    <tr>\n",
       "      <th>2</th>\n",
       "      <td>Women's adidas Swim Puka Slippers</td>\n",
       "      <td>999</td>\n",
       "      <td>40</td>\n",
       "      <td>2.6</td>\n",
       "      <td>399.6</td>\n",
       "      <td>599.4</td>\n",
       "    </tr>\n",
       "    <tr>\n",
       "      <th>3</th>\n",
       "      <td>Women's adidas Sport Inspired Questar Ride Shoes</td>\n",
       "      <td>6999</td>\n",
       "      <td>50</td>\n",
       "      <td>4.1</td>\n",
       "      <td>3499.5</td>\n",
       "      <td>3499.5</td>\n",
       "    </tr>\n",
       "    <tr>\n",
       "      <th>4</th>\n",
       "      <td>Women's adidas Originals Taekwondo Shoes</td>\n",
       "      <td>7999</td>\n",
       "      <td>50</td>\n",
       "      <td>3.5</td>\n",
       "      <td>3999.5</td>\n",
       "      <td>3999.5</td>\n",
       "    </tr>\n",
       "  </tbody>\n",
       "</table>\n",
       "</div>"
      ],
      "text/plain": [
       "                                        Product Name  Listing Price  Discount  \\\n",
       "0  Women's adidas Originals NMD_Racer Primeknit S...          14999        50   \n",
       "1               Women's adidas Originals Sleek Shoes           7599        50   \n",
       "2                  Women's adidas Swim Puka Slippers            999        40   \n",
       "3   Women's adidas Sport Inspired Questar Ride Shoes           6999        50   \n",
       "4           Women's adidas Originals Taekwondo Shoes           7999        50   \n",
       "\n",
       "   Rating  Discount_Price  Sales_Price  \n",
       "0     4.8          7499.5       7499.5  \n",
       "1     3.3          3799.5       3799.5  \n",
       "2     2.6           399.6        599.4  \n",
       "3     4.1          3499.5       3499.5  \n",
       "4     3.5          3999.5       3999.5  "
      ]
     },
     "execution_count": 8,
     "metadata": {},
     "output_type": "execute_result"
    }
   ],
   "source": [
    "df1.head()"
   ]
  },
  {
   "cell_type": "code",
   "execution_count": null,
   "id": "bdfcb0aa-d1a9-4ed3-bd3c-f927e38cac52",
   "metadata": {},
   "outputs": [],
   "source": []
  },
  {
   "cell_type": "code",
   "execution_count": null,
   "id": "f81ba3fa-d8c6-4ea0-8594-cab28d893549",
   "metadata": {},
   "outputs": [],
   "source": []
  },
  {
   "cell_type": "code",
   "execution_count": null,
   "id": "341724d6-9a8f-4a83-b317-602d136c5e7b",
   "metadata": {},
   "outputs": [],
   "source": []
  }
 ],
 "metadata": {
  "kernelspec": {
   "display_name": "Python 3 (ipykernel)",
   "language": "python",
   "name": "python3"
  },
  "language_info": {
   "codemirror_mode": {
    "name": "ipython",
    "version": 3
   },
   "file_extension": ".py",
   "mimetype": "text/x-python",
   "name": "python",
   "nbconvert_exporter": "python",
   "pygments_lexer": "ipython3",
   "version": "3.10.11"
  }
 },
 "nbformat": 4,
 "nbformat_minor": 5
}
