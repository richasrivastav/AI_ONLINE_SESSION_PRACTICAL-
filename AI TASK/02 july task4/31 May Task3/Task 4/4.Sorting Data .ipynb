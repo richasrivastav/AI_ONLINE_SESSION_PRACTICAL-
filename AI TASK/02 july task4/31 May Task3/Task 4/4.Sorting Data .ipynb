{
 "cells": [
  {
   "cell_type": "markdown",
   "id": "8aa2c347-b38f-46e6-80c1-9e65a7ffd20e",
   "metadata": {},
   "source": [
    "### Scenario: You have a DataFrame containing product information with prices and ratings. \n",
    "\n",
    "### Goal: Sort the DataFrame by: \n",
    "### Price (ascending order - cheapest to most expensive). \n",
    "### Rating (descending order - highest to lowest rating). "
   ]
  },
  {
   "cell_type": "code",
   "execution_count": 2,
   "id": "9fd88478-86c8-4ace-968d-d562f5095eb0",
   "metadata": {},
   "outputs": [],
   "source": [
    "# install and import library \n",
    "# pip install pandas\n",
    "import pandas as pd"
   ]
  },
  {
   "cell_type": "code",
   "execution_count": 4,
   "id": "e5543899-0204-4055-a80d-b5e8a236169a",
   "metadata": {},
   "outputs": [],
   "source": [
    "# Load the dataset from a CSV file\n",
    "df = pd.read_csv('smartWatch.csv')"
   ]
  },
  {
   "cell_type": "code",
   "execution_count": 5,
   "id": "57e360b3-69ee-4f28-a371-a49e4fdd3109",
   "metadata": {},
   "outputs": [
    {
     "data": {
      "text/plain": [
       "(100, 5)"
      ]
     },
     "execution_count": 5,
     "metadata": {},
     "output_type": "execute_result"
    }
   ],
   "source": [
    "# dimension of dataset\n",
    "df.shape"
   ]
  },
  {
   "cell_type": "code",
   "execution_count": 6,
   "id": "c5a599ce-00e5-4a64-a1a5-621773c7d2ae",
   "metadata": {},
   "outputs": [
    {
     "data": {
      "text/html": [
       "<div>\n",
       "<style scoped>\n",
       "    .dataframe tbody tr th:only-of-type {\n",
       "        vertical-align: middle;\n",
       "    }\n",
       "\n",
       "    .dataframe tbody tr th {\n",
       "        vertical-align: top;\n",
       "    }\n",
       "\n",
       "    .dataframe thead th {\n",
       "        text-align: right;\n",
       "    }\n",
       "</style>\n",
       "<table border=\"1\" class=\"dataframe\">\n",
       "  <thead>\n",
       "    <tr style=\"text-align: right;\">\n",
       "      <th></th>\n",
       "      <th>Brand Name</th>\n",
       "      <th>Device Type</th>\n",
       "      <th>Model Name</th>\n",
       "      <th>Selling Price</th>\n",
       "      <th>Rating (Out of 5)</th>\n",
       "    </tr>\n",
       "  </thead>\n",
       "  <tbody>\n",
       "    <tr>\n",
       "      <th>0</th>\n",
       "      <td>Xiaomi</td>\n",
       "      <td>FitnessBand</td>\n",
       "      <td>Smart Band 5</td>\n",
       "      <td>2,499</td>\n",
       "      <td>4.1</td>\n",
       "    </tr>\n",
       "    <tr>\n",
       "      <th>1</th>\n",
       "      <td>Xiaomi</td>\n",
       "      <td>FitnessBand</td>\n",
       "      <td>Smart Band 4</td>\n",
       "      <td>2,099</td>\n",
       "      <td>4.2</td>\n",
       "    </tr>\n",
       "    <tr>\n",
       "      <th>2</th>\n",
       "      <td>Xiaomi</td>\n",
       "      <td>FitnessBand</td>\n",
       "      <td>HMSH01GE</td>\n",
       "      <td>1,722</td>\n",
       "      <td>3.5</td>\n",
       "    </tr>\n",
       "    <tr>\n",
       "      <th>3</th>\n",
       "      <td>Xiaomi</td>\n",
       "      <td>FitnessBand</td>\n",
       "      <td>Smart Band 5</td>\n",
       "      <td>2,469</td>\n",
       "      <td>4.1</td>\n",
       "    </tr>\n",
       "    <tr>\n",
       "      <th>4</th>\n",
       "      <td>Xiaomi</td>\n",
       "      <td>FitnessBand</td>\n",
       "      <td>Band 3</td>\n",
       "      <td>1,799</td>\n",
       "      <td>4.3</td>\n",
       "    </tr>\n",
       "  </tbody>\n",
       "</table>\n",
       "</div>"
      ],
      "text/plain": [
       "  Brand Name  Device Type    Model Name Selling Price  Rating (Out of 5)\n",
       "0     Xiaomi  FitnessBand  Smart Band 5         2,499                4.1\n",
       "1     Xiaomi  FitnessBand  Smart Band 4         2,099                4.2\n",
       "2     Xiaomi  FitnessBand      HMSH01GE         1,722                3.5\n",
       "3     Xiaomi  FitnessBand  Smart Band 5         2,469                4.1\n",
       "4     Xiaomi  FitnessBand        Band 3         1,799                4.3"
      ]
     },
     "execution_count": 6,
     "metadata": {},
     "output_type": "execute_result"
    }
   ],
   "source": [
    "# top 5 rows\n",
    "df.head()"
   ]
  },
  {
   "cell_type": "code",
   "execution_count": 7,
   "id": "41ae7078-eedc-443c-8e86-ce96c9f3c6b9",
   "metadata": {},
   "outputs": [],
   "source": [
    "# sort values of price in ascending order and rating in decending order\n",
    "sorted_df = df.sort_values(by=['Selling Price', 'Rating (Out of 5)'], ascending=[True, False])"
   ]
  },
  {
   "cell_type": "code",
   "execution_count": 8,
   "id": "e75ae4dd-b78e-4944-a631-7da0cdfee58e",
   "metadata": {},
   "outputs": [],
   "source": [
    "sorted_df.to_csv('sorted_Data.csv',index= False)"
   ]
  },
  {
   "cell_type": "code",
   "execution_count": 9,
   "id": "e992be4b-b9a6-4577-b90e-d085d1770d84",
   "metadata": {},
   "outputs": [
    {
     "data": {
      "text/html": [
       "<div>\n",
       "<style scoped>\n",
       "    .dataframe tbody tr th:only-of-type {\n",
       "        vertical-align: middle;\n",
       "    }\n",
       "\n",
       "    .dataframe tbody tr th {\n",
       "        vertical-align: top;\n",
       "    }\n",
       "\n",
       "    .dataframe thead th {\n",
       "        text-align: right;\n",
       "    }\n",
       "</style>\n",
       "<table border=\"1\" class=\"dataframe\">\n",
       "  <thead>\n",
       "    <tr style=\"text-align: right;\">\n",
       "      <th></th>\n",
       "      <th>Brand Name</th>\n",
       "      <th>Device Type</th>\n",
       "      <th>Model Name</th>\n",
       "      <th>Selling Price</th>\n",
       "      <th>Rating (Out of 5)</th>\n",
       "    </tr>\n",
       "  </thead>\n",
       "  <tbody>\n",
       "    <tr>\n",
       "      <th>0</th>\n",
       "      <td>Xiaomi</td>\n",
       "      <td>FitnessBand</td>\n",
       "      <td>Smart Band 3i</td>\n",
       "      <td>1,270</td>\n",
       "      <td>4.2</td>\n",
       "    </tr>\n",
       "    <tr>\n",
       "      <th>1</th>\n",
       "      <td>realme</td>\n",
       "      <td>FitnessBand</td>\n",
       "      <td>Band</td>\n",
       "      <td>1,290</td>\n",
       "      <td>4.0</td>\n",
       "    </tr>\n",
       "    <tr>\n",
       "      <th>2</th>\n",
       "      <td>Xiaomi</td>\n",
       "      <td>FitnessBand</td>\n",
       "      <td>Band - HRX Edition</td>\n",
       "      <td>1,299</td>\n",
       "      <td>4.2</td>\n",
       "    </tr>\n",
       "    <tr>\n",
       "      <th>3</th>\n",
       "      <td>realme</td>\n",
       "      <td>FitnessBand</td>\n",
       "      <td>Smart band</td>\n",
       "      <td>1,450</td>\n",
       "      <td>4.0</td>\n",
       "    </tr>\n",
       "    <tr>\n",
       "      <th>4</th>\n",
       "      <td>realme</td>\n",
       "      <td>FitnessBand</td>\n",
       "      <td>Band</td>\n",
       "      <td>1,499</td>\n",
       "      <td>4.0</td>\n",
       "    </tr>\n",
       "    <tr>\n",
       "      <th>...</th>\n",
       "      <td>...</td>\n",
       "      <td>...</td>\n",
       "      <td>...</td>\n",
       "      <td>...</td>\n",
       "      <td>...</td>\n",
       "    </tr>\n",
       "    <tr>\n",
       "      <th>95</th>\n",
       "      <td>FitBit</td>\n",
       "      <td>FitnessBand</td>\n",
       "      <td>Charge 2</td>\n",
       "      <td>8,999</td>\n",
       "      <td>4.4</td>\n",
       "    </tr>\n",
       "    <tr>\n",
       "      <th>96</th>\n",
       "      <td>FitBit</td>\n",
       "      <td>FitnessBand</td>\n",
       "      <td>Charge 3</td>\n",
       "      <td>9,999</td>\n",
       "      <td>4.3</td>\n",
       "    </tr>\n",
       "    <tr>\n",
       "      <th>97</th>\n",
       "      <td>FitBit</td>\n",
       "      <td>FitnessBand</td>\n",
       "      <td>Charge 4</td>\n",
       "      <td>9,999</td>\n",
       "      <td>4.2</td>\n",
       "    </tr>\n",
       "    <tr>\n",
       "      <th>98</th>\n",
       "      <td>FitBit</td>\n",
       "      <td>FitnessBand</td>\n",
       "      <td>Charge 3 Special Edition</td>\n",
       "      <td>9,999</td>\n",
       "      <td>4.0</td>\n",
       "    </tr>\n",
       "    <tr>\n",
       "      <th>99</th>\n",
       "      <td>FitBit</td>\n",
       "      <td>Smartwatch</td>\n",
       "      <td>Surge</td>\n",
       "      <td>9,999</td>\n",
       "      <td>3.8</td>\n",
       "    </tr>\n",
       "  </tbody>\n",
       "</table>\n",
       "<p>100 rows × 5 columns</p>\n",
       "</div>"
      ],
      "text/plain": [
       "   Brand Name  Device Type                Model Name Selling Price  \\\n",
       "0      Xiaomi  FitnessBand             Smart Band 3i         1,270   \n",
       "1      realme  FitnessBand                      Band         1,290   \n",
       "2      Xiaomi  FitnessBand        Band - HRX Edition         1,299   \n",
       "3      realme  FitnessBand                Smart band         1,450   \n",
       "4      realme  FitnessBand                      Band         1,499   \n",
       "..        ...          ...                       ...           ...   \n",
       "95     FitBit  FitnessBand                  Charge 2         8,999   \n",
       "96     FitBit  FitnessBand                  Charge 3         9,999   \n",
       "97     FitBit  FitnessBand                  Charge 4         9,999   \n",
       "98     FitBit  FitnessBand  Charge 3 Special Edition         9,999   \n",
       "99     FitBit   Smartwatch                     Surge         9,999   \n",
       "\n",
       "    Rating (Out of 5)  \n",
       "0                 4.2  \n",
       "1                 4.0  \n",
       "2                 4.2  \n",
       "3                 4.0  \n",
       "4                 4.0  \n",
       "..                ...  \n",
       "95                4.4  \n",
       "96                4.3  \n",
       "97                4.2  \n",
       "98                4.0  \n",
       "99                3.8  \n",
       "\n",
       "[100 rows x 5 columns]"
      ]
     },
     "execution_count": 9,
     "metadata": {},
     "output_type": "execute_result"
    }
   ],
   "source": [
    "# result\n",
    "pd.read_csv('sorted_Data.csv')"
   ]
  },
  {
   "cell_type": "code",
   "execution_count": null,
   "id": "c3e6c11c-1a54-440b-b043-b1c839897a0a",
   "metadata": {},
   "outputs": [],
   "source": []
  },
  {
   "cell_type": "code",
   "execution_count": null,
   "id": "ec441a80-e9c4-44a5-85df-ff5cded0b603",
   "metadata": {},
   "outputs": [],
   "source": []
  },
  {
   "cell_type": "code",
   "execution_count": null,
   "id": "61a98901-4285-4185-bb5d-7644cea7bb2f",
   "metadata": {},
   "outputs": [],
   "source": []
  }
 ],
 "metadata": {
  "kernelspec": {
   "display_name": "Python 3 (ipykernel)",
   "language": "python",
   "name": "python3"
  },
  "language_info": {
   "codemirror_mode": {
    "name": "ipython",
    "version": 3
   },
   "file_extension": ".py",
   "mimetype": "text/x-python",
   "name": "python",
   "nbconvert_exporter": "python",
   "pygments_lexer": "ipython3",
   "version": "3.10.11"
  }
 },
 "nbformat": 4,
 "nbformat_minor": 5
}
