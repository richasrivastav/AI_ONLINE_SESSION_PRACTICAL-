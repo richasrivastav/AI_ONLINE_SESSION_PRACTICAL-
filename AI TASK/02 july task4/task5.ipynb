{
 "cells": [
  {
   "cell_type": "code",
   "execution_count": null,
   "id": "d4c05310-6804-4f01-aaaa-5b543904f9a0",
   "metadata": {},
   "outputs": [],
   "source": [
    "from sklearn.datasets import load_iris\n",
    "from sklearn.linear_model import LogisticRegression\n",
    "from sklearn.svm import SVC\n",
    "from sklearn.tree import DecisionTreeClassifier\n",
    "from sklearn.ensemble import RandomForestClassifier\n",
    "from sklearn.model_selection import cross_val_score"
   ]
  },
  {
   "cell_type": "code",
   "execution_count": null,
   "id": "9353bc9e-c8d7-4859-9b78-877cf6c4e9cf",
   "metadata": {},
   "outputs": [],
   "source": [
    "# Load the iris dataset\n",
    "iris = load_iris()\n",
    "X = iris.data\n",
    "y = iris.target"
   ]
  },
  {
   "cell_type": "code",
   "execution_count": null,
   "id": "a4bcaab3-480f-415d-8ce0-48bf3f5671be",
   "metadata": {},
   "outputs": [],
   "source": [
    "# Logistic Regression\n",
    "lr = LogisticRegression()\n",
    "lr_scores = cross_val_score(lr, X, y, cv=5)\n",
    "print(\"Logistic Regression:\", lr_scores.mean())\n"
   ]
  },
  {
   "cell_type": "code",
   "execution_count": null,
   "id": "eb911191-9f47-448f-ba00-f15eeb8b0ee7",
   "metadata": {},
   "outputs": [],
   "source": [
    "# SVM\n",
    "svm = SVC()\n",
    "svm_scores = cross_val_score(svm, X, y, cv=5)\n",
    "print(\"SVM:\", svm_scores.mean())\n"
   ]
  },
  {
   "cell_type": "code",
   "execution_count": null,
   "id": "9d69300d-002c-4866-b885-23b13bcc02c5",
   "metadata": {},
   "outputs": [],
   "source": [
    "# Decision Tree\n",
    "dt = DecisionTreeClassifier()\n",
    "dt_scores = cross_val_score(dt, X, y, cv=5)\n",
    "print(\"Decision Tree:\", dt_scores.mean())"
   ]
  },
  {
   "cell_type": "code",
   "execution_count": null,
   "id": "b0bfc491-26c7-4086-a611-d3bcc9f9d2b1",
   "metadata": {},
   "outputs": [],
   "source": [
    "# Random Forest\n",
    "rf = RandomForestClassifier()\n",
    "rf_scores = cross_val_score(rf, X, y, cv=5)\n",
    "print(\"Random Forest:\", rf_scores.mean())"
   ]
  },
  {
   "cell_type": "code",
   "execution_count": null,
   "id": "3c2ce3c8-10ed-4a8c-a238-3e59f326c2f5",
   "metadata": {},
   "outputs": [],
   "source": [
    "# Find the model with the best performance\n",
    "best_model = max([lr_scores.mean(), svm_scores.mean(), dt_scores.mean(), rf_scores.mean()])\n",
    "if best_model == lr_scores.mean():\n",
    "    print(\"Logistic Regression has the best performance.\")\n",
    "elif best_model == svm_scores.mean():\n",
    "    print(\"SVM has the best performance.\")\n",
    "elif best_model == dt_scores.mean():\n",
    "    print(\"Decision Tree has the best performance.\")\n",
    "else:\n",
    "    print(\"Random Forest has the best performance.\")"
   ]
  }
 ],
 "metadata": {
  "kernelspec": {
   "display_name": "Python 3 (ipykernel)",
   "language": "python",
   "name": "python3"
  },
  "language_info": {
   "codemirror_mode": {
    "name": "ipython",
    "version": 3
   },
   "file_extension": ".py",
   "mimetype": "text/x-python",
   "name": "python",
   "nbconvert_exporter": "python",
   "pygments_lexer": "ipython3",
   "version": "3.11.9"
  }
 },
 "nbformat": 4,
 "nbformat_minor": 5
}
